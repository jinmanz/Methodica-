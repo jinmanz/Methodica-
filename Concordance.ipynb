{
 "cells": [
  {
   "cell_type": "markdown",
   "metadata": {},
   "source": [
    "## Generating Concordances"
   ]
  },
  {
   "cell_type": "code",
   "execution_count": 13,
   "metadata": {},
   "outputs": [],
   "source": [
    "# import text\n",
    "\n",
    "f = open('Emma_Austen.txt','r')\n",
    "txt = f.read()"
   ]
  },
  {
   "cell_type": "markdown",
   "metadata": {},
   "source": [
    "### Tokenization\n",
    "Now we tokenize the text producing a list called \"listOfTokens\" and check the first words. This eliminates punctuation and lowercases the words."
   ]
  },
  {
   "cell_type": "code",
   "execution_count": 15,
   "metadata": {},
   "outputs": [
    {
     "name": "stdout",
     "output_type": "stream",
     "text": [
      "['emma', 'woodhouse', 'handsome', 'clever', 'and', 'rich', 'with', 'a', 'comfortable', 'home']\n"
     ]
    }
   ],
   "source": [
    "import re\n",
    "listOfTokens = re.findall(r'\\b\\w[\\w-]*\\b', txt.lower())\n",
    "print (listOfTokens[:10])"
   ]
  },
  {
   "cell_type": "markdown",
   "metadata": {},
   "source": [
    "### Set parameters"
   ]
  },
  {
   "cell_type": "code",
   "execution_count": 18,
   "metadata": {
    "collapsed": true
   },
   "outputs": [],
   "source": [
    "# set a word to find\n",
    "word2find = 'emma'\n",
    "# set the context of words on either side to grab\n",
    "context = 5\n",
    "# create a list to store the concordance\n",
    "theConc = []"
   ]
  },
  {
   "cell_type": "markdown",
   "metadata": {},
   "source": [
    "### Main function"
   ]
  },
  {
   "cell_type": "code",
   "execution_count": 19,
   "metadata": {
    "collapsed": true
   },
   "outputs": [],
   "source": [
    "\n",
    "def makeConc(word2conc,list2FindIn,context2Use,concList):\n",
    "\n",
    "    end = len(list2FindIn)\n",
    "    for location in range(end):\n",
    "        if list2FindIn[location] == word2conc:\n",
    "            # Here we check whether we are at the very beginning or end\n",
    "            if (location - context2Use) < 0:\n",
    "                beginCon = 0\n",
    "            else:\n",
    "                beginCon = location - context2Use\n",
    "                \n",
    "            if (location + context2Use) > end:\n",
    "                endCon = end\n",
    "            else:\n",
    "                endCon = location + context2Use + 1\n",
    "                \n",
    "            theContext = (list2FindIn[beginCon:endCon])\n",
    "            concordanceLine = ' '.join(theContext)\n",
    "            # print(str(location) + \": \" + concordanceLine)\n",
    "            concList.append(str(location) + \": \" + concordanceLine)"
   ]
  },
  {
   "cell_type": "code",
   "execution_count": 20,
   "metadata": {},
   "outputs": [
    {
     "data": {
      "text/plain": [
       "['0: emma woodhouse handsome clever and rich',\n",
       " '140: both daughters but particularly of emma miss taylor had ceased to',\n",
       " '188: friend very mutually attached and emma doing just what she liked']"
      ]
     },
     "execution_count": 20,
     "metadata": {},
     "output_type": "execute_result"
    }
   ],
   "source": [
    "makeConc(word2find,listOfTokens,context,theConc)\n",
    "theConc[-5:]"
   ]
  },
  {
   "cell_type": "markdown",
   "metadata": {},
   "source": [
    "- The number at the beginning is the location of the word to find, here 'emma'.\n",
    "- As the word 'emma' only appears 3 times in our text, so we got three concordance lines."
   ]
  },
  {
   "cell_type": "markdown",
   "metadata": {},
   "source": [
    "Reference:\n",
    "   https://github.com/sgsinclair/alta/blob/2eb10ab6787d032e317ce883fb0bc3427406333d/ipynb/utilities/Concordances.ipynb"
   ]
  },
  {
   "cell_type": "code",
   "execution_count": null,
   "metadata": {
    "collapsed": true
   },
   "outputs": [],
   "source": []
  }
 ],
 "metadata": {
  "kernelspec": {
   "display_name": "Python 3",
   "language": "python",
   "name": "python3"
  },
  "language_info": {
   "codemirror_mode": {
    "name": "ipython",
    "version": 3
   },
   "file_extension": ".py",
   "mimetype": "text/x-python",
   "name": "python",
   "nbconvert_exporter": "python",
   "pygments_lexer": "ipython3",
   "version": "3.6.4"
  }
 },
 "nbformat": 4,
 "nbformat_minor": 2
}
