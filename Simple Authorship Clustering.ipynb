{
 "cells": [
  {
   "cell_type": "markdown",
   "metadata": {},
   "source": [
    "The documents to be explored are from fictions of three authors.\n",
    "- AChristmasCarol_Dickens.txt\n",
    "- ATaleofTwoCities_Dickens.txt\n",
    "- GreatExpectations_Dickens.txt\n",
    "\n",
    "\n",
    "- Emma_Austen.txt\n",
    "- Persuasion_Austen.txt\n",
    "- PrideandPrejudice_Austen.txt\n",
    "\n",
    "\n",
    "- HenryV_Shakespeare.txt\n",
    "- Macbeth_Shakespeare.txt\n",
    "- Richard3_Shakespeare.txt"
   ]
  },
  {
   "cell_type": "markdown",
   "metadata": {},
   "source": [
    "- We will first take a look at the length of each text.\n",
    "- Next, we will measure and visualize the distance of the texts.\n",
    "- Last, we will generate a dendrogram to show the authorship grouping."
   ]
  },
  {
   "cell_type": "code",
   "execution_count": 105,
   "metadata": {
    "collapsed": true
   },
   "outputs": [],
   "source": [
    "import os\n",
    "import numpy as np\n",
    "import sklearn.feature_extraction.text as text\n",
    "\n",
    "data_dir = 'Fictions/'\n",
    "\n",
    "filenames = np.array(sorted(os.listdir(data_dir)))\n",
    "\n",
    "filenames_with_path = [os.path.join(data_dir, fn) for fn in filenames] # join the path with filenames"
   ]
  },
  {
   "cell_type": "code",
   "execution_count": 106,
   "metadata": {},
   "outputs": [
    {
     "data": {
      "text/plain": [
       "['Fictions/AChristmasCarol_Dickens.txt',\n",
       " 'Fictions/ATaleofTwoCities_Dickens.txt',\n",
       " 'Fictions/Emma_Austen.txt',\n",
       " 'Fictions/GreatExpectations_Dickens.txt',\n",
       " 'Fictions/HenryV_Shakespeare.txt',\n",
       " 'Fictions/Macbeth_Shakespeare.txt',\n",
       " 'Fictions/Persuasion_Austen.txt',\n",
       " 'Fictions/PrideandPrejudice_Austen.txt',\n",
       " 'Fictions/Richard3_Shakespeare.txt']"
      ]
     },
     "execution_count": 106,
     "metadata": {},
     "output_type": "execute_result"
    }
   ],
   "source": [
    "filenames_with_path"
   ]
  },
  {
   "cell_type": "code",
   "execution_count": 107,
   "metadata": {
    "collapsed": true
   },
   "outputs": [],
   "source": [
    "vectorizer = text.CountVectorizer(input='filename')"
   ]
  },
  {
   "cell_type": "code",
   "execution_count": 108,
   "metadata": {
    "collapsed": true
   },
   "outputs": [],
   "source": [
    "dtm = vectorizer.fit_transform(filenames_with_path)\n"
   ]
  },
  {
   "cell_type": "code",
   "execution_count": 109,
   "metadata": {
    "collapsed": true
   },
   "outputs": [],
   "source": [
    "vocab = np.array(vectorizer.get_feature_names())"
   ]
  },
  {
   "cell_type": "code",
   "execution_count": 110,
   "metadata": {},
   "outputs": [
    {
     "name": "stdout",
     "output_type": "stream",
     "text": [
      "[[ 31549]\n",
      " [135479]\n",
      " [157653]\n",
      " [179083]\n",
      " [ 28605]\n",
      " [ 19700]\n",
      " [ 83924]\n",
      " [121170]\n",
      " [ 33849]]\n"
     ]
    }
   ],
   "source": [
    "# sum over rows to calculate lengths(the numbers in a row are word frequency of a document,so sum the numbers to get the word count of each document)\n",
    "lengths = np.sum(dtm, axis=1)\n",
    "print lengths\n",
    "\n"
   ]
  },
  {
   "cell_type": "code",
   "execution_count": 111,
   "metadata": {},
   "outputs": [
    {
     "data": {
      "text/plain": [
       "(array([ 4.,  0.,  0.,  0.,  1.,  0.,  1.,  1.,  1.,  1.]),\n",
       " array([  19700. ,   35638.3,   51576.6,   67514.9,   83453.2,   99391.5,\n",
       "         115329.8,  131268.1,  147206.4,  163144.7,  179083. ]),\n",
       " <a list of 10 Patch objects>)"
      ]
     },
     "execution_count": 111,
     "metadata": {},
     "output_type": "execute_result"
    }
   ],
   "source": [
    "\n",
    "# plot histogragh\n",
    "import matplotlib.pyplot as plt\n",
    "\n",
    "\n",
    "plt.hist(lengths,edgecolor='black',facecolor='blue')\n",
    "\n"
   ]
  },
  {
   "cell_type": "code",
   "execution_count": 112,
   "metadata": {},
   "outputs": [
    {
     "data": {
      "image/png": "[encoded data removed]",
      "text/plain": [
       "<matplotlib.figure.Figure at 0x11af5a610>"
      ]
     },
     "metadata": {},
     "output_type": "display_data"
    }
   ],
   "source": [
    "plt.title(\"Fiction length in words\")\n",
    "plt.show()"
   ]
  },
  {
   "cell_type": "code",
   "execution_count": 113,
   "metadata": {},
   "outputs": [
    {
     "data": {
      "text/plain": [
       "(179083, 'GreatExpectations_Dickens.txt')"
      ]
     },
     "execution_count": 113,
     "metadata": {},
     "output_type": "execute_result"
    }
   ],
   "source": [
    "# find the longest and the shortest texts\n",
    "\n",
    "(np.max(lengths), filenames[np.argmax(lengths)])"
   ]
  },
  {
   "cell_type": "code",
   "execution_count": 114,
   "metadata": {},
   "outputs": [
    {
     "data": {
      "text/plain": [
       "(19700, 'Macbeth_Shakespeare.txt')"
      ]
     },
     "execution_count": 114,
     "metadata": {},
     "output_type": "execute_result"
    }
   ],
   "source": [
    "(np.min(lengths), filenames[np.argmin(lengths)])"
   ]
  },
  {
   "cell_type": "markdown",
   "metadata": {},
   "source": [
    "### Measure of distance"
   ]
  },
  {
   "cell_type": "markdown",
   "metadata": {},
   "source": [
    "#### Multidimensional scaling\n",
    "\n",
    "Multidimensional scaling (MDS) seeks a low-dimensional representation of the data in which the distances respect well the distances in the original high-dimensional space."
   ]
  },
  {
   "cell_type": "code",
   "execution_count": 115,
   "metadata": {
    "collapsed": true
   },
   "outputs": [],
   "source": [
    "from sklearn.manifold import MDS\n",
    "from sklearn.metrics.pairwise import cosine_similarity"
   ]
  },
  {
   "cell_type": "code",
   "execution_count": 116,
   "metadata": {
    "collapsed": true
   },
   "outputs": [],
   "source": [
    "dist = 1 - cosine_similarity(dtm)"
   ]
  },
  {
   "cell_type": "code",
   "execution_count": 117,
   "metadata": {
    "collapsed": true
   },
   "outputs": [],
   "source": [
    "mds = MDS(n_components=2, dissimilarity=\"precomputed\", random_state=1)\n",
    "pos = mds.fit_transform(dist)  # shape (n_components, n_samples)\n"
   ]
  },
  {
   "cell_type": "code",
   "execution_count": 118,
   "metadata": {
    "collapsed": true
   },
   "outputs": [],
   "source": [
    "# create very short names for plotting\n",
    "# filenames have form: AChristmasCarol_Dickens.txt\n",
    "\n",
    "authors = [] \n",
    "names = []"
   ]
  },
  {
   "cell_type": "code",
   "execution_count": 119,
   "metadata": {
    "collapsed": true
   },
   "outputs": [],
   "source": [
    "for fn in filenames:\n",
    "    author = fn.split('_')[1]\n",
    "    authors.append(author)\n",
    "    names.append(fn)"
   ]
  },
  {
   "cell_type": "code",
   "execution_count": 120,
   "metadata": {},
   "outputs": [
    {
     "data": {
      "text/plain": [
       "<matplotlib.figure.Figure at 0x11af5ad10>"
      ]
     },
     "execution_count": 120,
     "metadata": {},
     "output_type": "execute_result"
    }
   ],
   "source": [
    "plt.figure(figsize=(11, 7)) "
   ]
  },
  {
   "cell_type": "code",
   "execution_count": 121,
   "metadata": {},
   "outputs": [
    {
     "name": "stdout",
     "output_type": "stream",
     "text": [
      "['Austen.txt', 'Dickens.txt', 'Shakespeare.txt']\n"
     ]
    }
   ],
   "source": [
    "xs, ys = pos[:, 0], pos[:, 1]\n",
    "authors_unique = sorted(set(authors)) # get unique authors\n",
    "print authors_unique"
   ]
  },
  {
   "cell_type": "code",
   "execution_count": 122,
   "metadata": {},
   "outputs": [
    {
     "data": {
      "text/plain": [
       "<matplotlib.collections.PathCollection at 0x116e599d0>"
      ]
     },
     "execution_count": 122,
     "metadata": {},
     "output_type": "execute_result"
    }
   ],
   "source": [
    "colors = [authors_unique.index(a) for a in authors] # get a unique color for texts of each author  \n",
    "\n",
    "plt.scatter(xs, ys,c=colors,cmap='viridis')\n"
   ]
  },
  {
   "cell_type": "code",
   "execution_count": 123,
   "metadata": {
    "collapsed": true
   },
   "outputs": [],
   "source": [
    "for x, y, name in zip(xs, ys, names):\n",
    "    plt.text(x, y, name, alpha=0.5, fontsize=10)"
   ]
  },
  {
   "cell_type": "code",
   "execution_count": 124,
   "metadata": {},
   "outputs": [
    {
     "data": {
      "image/png": "[encoded data removed]",
      "text/plain": [
       "<matplotlib.figure.Figure at 0x11af5ad10>"
      ]
     },
     "metadata": {},
     "output_type": "display_data"
    }
   ],
   "source": [
    "# tight_layout automatically adjusts subplot params so that the subplot(s) fits in to the figure area.\n",
    "# tight_layout: https://matplotlib.org/users/tight_layout_guide.html\n",
    "plt.tight_layout()\n",
    "plt.show()"
   ]
  },
  {
   "cell_type": "markdown",
   "metadata": {},
   "source": [
    "### Dendrogram\n",
    "A dendrogram is a tree diagram frequently used to illustrate the arrangement of the clusters produced by hierarchical clustering. Here, we will use dendrogram to show the authorship cluster.\n"
   ]
  },
  {
   "cell_type": "code",
   "execution_count": 141,
   "metadata": {
    "collapsed": true
   },
   "outputs": [],
   "source": [
    "# Performs Ward’s linkage on a condensed or redundant distance matrix.\n",
    "from scipy.cluster.hierarchy import ward, dendrogram\n",
    "linkage_matrix = ward(dist)"
   ]
  },
  {
   "cell_type": "code",
   "execution_count": 142,
   "metadata": {},
   "outputs": [
    {
     "data": {
      "text/plain": [
       "<matplotlib.figure.Figure at 0x11b4bb790>"
      ]
     },
     "execution_count": 142,
     "metadata": {},
     "output_type": "execute_result"
    }
   ],
   "source": [
    "plt.figure(figsize=(8, 6)) "
   ]
  },
  {
   "cell_type": "code",
   "execution_count": 143,
   "metadata": {
    "collapsed": true
   },
   "outputs": [],
   "source": [
    "dendrogram(linkage_matrix, orientation=\"right\", labels=names, leaf_font_size=10);"
   ]
  },
  {
   "cell_type": "code",
   "execution_count": 144,
   "metadata": {},
   "outputs": [
    {
     "data": {
      "image/png": "[encoded data removed]",
      "text/plain": [
       "<matplotlib.figure.Figure at 0x11b4bb790>"
      ]
     },
     "metadata": {},
     "output_type": "display_data"
    }
   ],
   "source": [
    "plt.tight_layout()\n",
    "plt.show()"
   ]
  },
  {
   "cell_type": "markdown",
   "metadata": {},
   "source": [
    "- Charles John Huffam Dickens (1812-1870)\n",
    "- Jane Austen (1775-1817)\n",
    "- William Shakespeare (1564-1616)\n"
   ]
  },
  {
   "cell_type": "markdown",
   "metadata": {
    "collapsed": true
   },
   "source": [
    "Reference: \n",
    "\n",
    "https://de.dariah.eu/tatom/case_study_racine.html\n",
    "\n",
    "https://en.wikipedia.org/wiki/Dendrogram\n",
    "\n",
    "http://scikit-learn.org/stable/modules/manifold.html#multidimensional-scaling"
   ]
  },
  {
   "cell_type": "code",
   "execution_count": null,
   "metadata": {
    "collapsed": true
   },
   "outputs": [],
   "source": []
  }
 ],
 "metadata": {
  "kernelspec": {
   "display_name": "Python 2",
   "language": "python",
   "name": "python2"
  },
  "language_info": {
   "codemirror_mode": {
    "name": "ipython",
    "version": 2
   },
   "file_extension": ".py",
   "mimetype": "text/x-python",
   "name": "python",
   "nbconvert_exporter": "python",
   "pygments_lexer": "ipython2",
   "version": "2.7.13"
  }
 },
 "nbformat": 4,
 "nbformat_minor": 2
}
