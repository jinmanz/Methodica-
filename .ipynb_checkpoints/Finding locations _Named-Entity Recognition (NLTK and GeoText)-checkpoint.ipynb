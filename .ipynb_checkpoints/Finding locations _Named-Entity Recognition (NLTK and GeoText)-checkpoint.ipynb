{
 "cells": [
  {
   "cell_type": "markdown",
   "metadata": {},
   "source": [
    "### Using NLTK for Named Entity Recognition (Location)\n"
   ]
  },
  {
   "cell_type": "code",
   "execution_count": 31,
   "metadata": {},
   "outputs": [
    {
     "name": "stdout",
     "output_type": "stream",
     "text": [
      "Eisenstein was born to a middle-class family in Riga, Latvia (then part of the Russian Empire in the Governorate of Livonia), but his family moved frequently in his early years, as Eisenstein continued to do throughout his life. His father, Mikhail Osipovich Eisenstein, was born to a German Jewish father who had converted to Christianity, Osip Eisenstein, and a mother of Swedish descent. His mother, Julia Ivanovna Konetskaya, was from a Russian Orthodox family. According to other sources, both of his paternal grandparents were of Baltic German descent. His father was an architect and his mother was the daughter of a prosperous merchant. Julia left Riga the same year as the Russian Revolution of 1905, taking Sergei with her to St. Petersburg.[6] Her son would return at times to see his father, who joined them around 1910.[7] Divorce followed and Julia left the family to live in France. Eisenstein was raised as an Orthodox Christian, but became an atheist later on.\n"
     ]
    }
   ],
   "source": [
    "# import text\n",
    "import nltk \n",
    "\n",
    "f = open('NE.txt','r')\n",
    "text = f.read()\n",
    "\n",
    "print (text)"
   ]
  },
  {
   "cell_type": "markdown",
   "metadata": {},
   "source": [
    "### Steps\n",
    "- First, we will split the text into sentences using a sentence segmenter \"nltk.sent_tokenize\" \n",
    "- Each sentence will be further sibdivided into words using a word tokenizer \"nltk.word_tokenize\"\n",
    "- Next, each sentence will be tagged with part-of-speech tags using nltk.pos_tag, which will prove very helppful in the next step, name entity detection.\n",
    "- Next is to chunk the tagged sentences using \"nltk.ne_chunk\". Chunking aims at grouping elements of the sequence, without any differentiation between obtained groups. For example, noun phrase chunking or verb group chunking.\n",
    "- After chunking, named entities will be labeld as \"GPE\" if the chunk is a location name.\n",
    "\n",
    "\n",
    "The following code can easily realze the steps listed above."
   ]
  },
  {
   "cell_type": "code",
   "execution_count": 33,
   "metadata": {},
   "outputs": [
    {
     "name": "stdout",
     "output_type": "stream",
     "text": [
      "['Riga', 'Latvia', 'Russian', 'Livonia', 'German', 'Christianity', 'Swedish', 'Russian', 'Baltic', 'German', 'Russian', 'St', 'Petersburg', 'France']\n"
     ]
    }
   ],
   "source": [
    "#create a list to store person names\n",
    "loc_names = []\n",
    "# tokenize sentences\n",
    "for sent in nltk.sent_tokenize(text):\n",
    "    # tokenize words, tag words, then chunk the words\n",
    "    for chunk in nltk.ne_chunk(nltk.pos_tag(nltk.word_tokenize(sent))):\n",
    "        if hasattr(chunk, 'label') and chunk.label()=='GPE':\n",
    "            loc = ' '.join(leave[0] for leave in chunk.leaves())\n",
    "            loc_names.append(loc)\n",
    "\n",
    "print (loc_names)"
   ]
  },
  {
   "cell_type": "markdown",
   "metadata": {},
   "source": [
    "### Using geotext package for location extraction\n",
    "[Geotext](https://pypi.python.org/pypi/geotext) is a python package helps to extracts countriy and city mentions from text."
   ]
  },
  {
   "cell_type": "markdown",
   "metadata": {},
   "source": [
    "#### Install geotext\n",
    "First, we need to install geotext type in the following commond in the terminal:\n",
    "    \n",
    "    pip install geotext\n",
    "\n",
    "Next, we will use our text to have a try."
   ]
  },
  {
   "cell_type": "code",
   "execution_count": 34,
   "metadata": {},
   "outputs": [
    {
     "name": "stdout",
     "output_type": "stream",
     "text": [
      "['Latvia', 'France']\n",
      "['Riga', 'Livonia', 'Riga', 'Petersburg']\n"
     ]
    }
   ],
   "source": [
    "from geotext import GeoText\n",
    "places = GeoText(text)\n",
    "print (places.countries)\n",
    "print places.cities"
   ]
  },
  {
   "cell_type": "markdown",
   "metadata": {
    "collapsed": true
   },
   "source": []
  }
 ],
 "metadata": {
  "kernelspec": {
   "display_name": "Python 3",
   "language": "python",
   "name": "python3"
  },
  "language_info": {
   "codemirror_mode": {
    "name": "ipython",
    "version": 3
   },
   "file_extension": ".py",
   "mimetype": "text/x-python",
   "name": "python",
   "nbconvert_exporter": "python",
   "pygments_lexer": "ipython3",
   "version": "3.6.4"
  }
 },
 "nbformat": 4,
 "nbformat_minor": 2
}
